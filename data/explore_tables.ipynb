{
 "cells": [
  {
   "cell_type": "code",
   "execution_count": 1,
   "id": "c2c7a523-66ea-48a5-b119-f908a1ec78bd",
   "metadata": {
    "tags": []
   },
   "outputs": [],
   "source": [
    "# dependencies\n",
    "import pandas as pd\n",
    "import csv\n",
    "import numpy as np"
   ]
  },
  {
   "cell_type": "code",
   "execution_count": 2,
   "id": "2f4876a2-5e90-4f5a-bc88-64f28d5c5fb1",
   "metadata": {
    "tags": []
   },
   "outputs": [],
   "source": [
    "# Import csv's in Dataframes\n",
    "departments_df = pd.read_csv(\"departments.csv\")\n",
    "dept_emp_df = pd.read_csv(\"dept_emp.csv\")\n",
    "dept_manager_df = pd.read_csv(\"dept_manager.csv\")\n",
    "employees_df = pd.read_csv(\"employees.csv\")\n",
    "salaries_df = pd.read_csv(\"salaries.csv\")\n",
    "titles_df = pd.read_csv(\"titles.csv\")"
   ]
  },
  {
   "cell_type": "markdown",
   "id": "771d8c50-5be1-4b8d-a424-d997fb20af4d",
   "metadata": {
    "tags": []
   },
   "source": [
    "### Departments Table\n",
    "- All values unique"
   ]
  },
  {
   "cell_type": "code",
   "execution_count": 3,
   "id": "c097c43c-566f-4c60-9ee5-c4e1869f1acc",
   "metadata": {
    "tags": []
   },
   "outputs": [
    {
     "name": "stdout",
     "output_type": "stream",
     "text": [
      "<class 'pandas.core.frame.DataFrame'>\n",
      "RangeIndex: 9 entries, 0 to 8\n",
      "Data columns (total 2 columns):\n",
      " #   Column     Non-Null Count  Dtype \n",
      "---  ------     --------------  ----- \n",
      " 0   dept_no    9 non-null      object\n",
      " 1   dept_name  9 non-null      object\n",
      "dtypes: object(2)\n",
      "memory usage: 276.0+ bytes\n"
     ]
    },
    {
     "data": {
      "text/plain": [
       "None"
      ]
     },
     "metadata": {},
     "output_type": "display_data"
    }
   ],
   "source": [
    "display(departments_df.info())"
   ]
  },
  {
   "cell_type": "code",
   "execution_count": 4,
   "id": "5d2918b7-f939-4b0c-baa5-e915751edf77",
   "metadata": {
    "tags": []
   },
   "outputs": [
    {
     "data": {
      "text/plain": [
       "dept_no  dept_name         \n",
       "d001     Marketing             1\n",
       "d002     Finance               1\n",
       "d003     Human Resources       1\n",
       "d004     Production            1\n",
       "d005     Development           1\n",
       "d006     Quality Management    1\n",
       "d007     Sales                 1\n",
       "d008     Research              1\n",
       "d009     Customer Service      1\n",
       "Name: count, dtype: int64"
      ]
     },
     "metadata": {},
     "output_type": "display_data"
    }
   ],
   "source": [
    "display(departments_df.value_counts())"
   ]
  },
  {
   "cell_type": "markdown",
   "id": "cb347bee-33c3-4dc4-b715-2d82030b3cd5",
   "metadata": {},
   "source": [
    "### Department Employees Table\n",
    "- Some Employees are classified under two departments"
   ]
  },
  {
   "cell_type": "code",
   "execution_count": 5,
   "id": "7a0c0d98-2f51-4a1f-9c51-0bbd6cff9317",
   "metadata": {
    "tags": []
   },
   "outputs": [
    {
     "name": "stdout",
     "output_type": "stream",
     "text": [
      "<class 'pandas.core.frame.DataFrame'>\n",
      "RangeIndex: 331603 entries, 0 to 331602\n",
      "Data columns (total 2 columns):\n",
      " #   Column   Non-Null Count   Dtype \n",
      "---  ------   --------------   ----- \n",
      " 0   emp_no   331603 non-null  int64 \n",
      " 1   dept_no  331603 non-null  object\n",
      "dtypes: int64(1), object(1)\n",
      "memory usage: 5.1+ MB\n"
     ]
    },
    {
     "data": {
      "text/plain": [
       "None"
      ]
     },
     "metadata": {},
     "output_type": "display_data"
    }
   ],
   "source": [
    "display(dept_emp_df.info())"
   ]
  },
  {
   "cell_type": "code",
   "execution_count": 6,
   "id": "a4211cca-7a12-49a9-a74d-3944ec63d07b",
   "metadata": {
    "tags": []
   },
   "outputs": [
    {
     "data": {
      "text/html": [
       "<div>\n",
       "<style scoped>\n",
       "    .dataframe tbody tr th:only-of-type {\n",
       "        vertical-align: middle;\n",
       "    }\n",
       "\n",
       "    .dataframe tbody tr th {\n",
       "        vertical-align: top;\n",
       "    }\n",
       "\n",
       "    .dataframe thead th {\n",
       "        text-align: right;\n",
       "    }\n",
       "</style>\n",
       "<table border=\"1\" class=\"dataframe\">\n",
       "  <thead>\n",
       "    <tr style=\"text-align: right;\">\n",
       "      <th></th>\n",
       "      <th>emp_no</th>\n",
       "      <th>dept_no</th>\n",
       "    </tr>\n",
       "  </thead>\n",
       "  <tbody>\n",
       "    <tr>\n",
       "      <th>0</th>\n",
       "      <td>10001</td>\n",
       "      <td>d005</td>\n",
       "    </tr>\n",
       "    <tr>\n",
       "      <th>1</th>\n",
       "      <td>10002</td>\n",
       "      <td>d007</td>\n",
       "    </tr>\n",
       "    <tr>\n",
       "      <th>2</th>\n",
       "      <td>10003</td>\n",
       "      <td>d004</td>\n",
       "    </tr>\n",
       "  </tbody>\n",
       "</table>\n",
       "</div>"
      ],
      "text/plain": [
       "   emp_no dept_no\n",
       "0   10001    d005\n",
       "1   10002    d007\n",
       "2   10003    d004"
      ]
     },
     "metadata": {},
     "output_type": "display_data"
    }
   ],
   "source": [
    "display(dept_emp_df.head(3))"
   ]
  },
  {
   "cell_type": "code",
   "execution_count": 7,
   "id": "05d23b2c-b00c-4027-9f22-bf600aea3a74",
   "metadata": {
    "tags": []
   },
   "outputs": [
    {
     "data": {
      "text/plain": [
       "emp_no     300024\n",
       "dept_no         9\n",
       "dtype: int64"
      ]
     },
     "metadata": {},
     "output_type": "display_data"
    }
   ],
   "source": [
    "display(dept_emp_df.nunique())"
   ]
  },
  {
   "cell_type": "code",
   "execution_count": 8,
   "id": "3f562b17-556c-40c7-8627-0259dbad639a",
   "metadata": {
    "tags": []
   },
   "outputs": [
    {
     "data": {
      "text/plain": [
       "emp_no\n",
       "223120    2\n",
       "459963    2\n",
       "54758     2\n",
       "222487    2\n",
       "459954    2\n",
       "Name: count, dtype: int64"
      ]
     },
     "metadata": {},
     "output_type": "display_data"
    }
   ],
   "source": [
    "display(dept_emp_df[\"emp_no\"].value_counts().head())"
   ]
  },
  {
   "cell_type": "markdown",
   "id": "1440e075-1817-4816-bbb1-992c6f6db5ff",
   "metadata": {},
   "source": [
    "### Department Manager Table\n",
    "- 9 departments\n",
    "- 3 departments have 4 managers and the rest all have 2"
   ]
  },
  {
   "cell_type": "code",
   "execution_count": 9,
   "id": "a405d48f-d0e1-4342-9dc9-1ee1e1ef9af7",
   "metadata": {
    "tags": []
   },
   "outputs": [
    {
     "name": "stdout",
     "output_type": "stream",
     "text": [
      "<class 'pandas.core.frame.DataFrame'>\n",
      "RangeIndex: 24 entries, 0 to 23\n",
      "Data columns (total 2 columns):\n",
      " #   Column   Non-Null Count  Dtype \n",
      "---  ------   --------------  ----- \n",
      " 0   dept_no  24 non-null     object\n",
      " 1   emp_no   24 non-null     int64 \n",
      "dtypes: int64(1), object(1)\n",
      "memory usage: 516.0+ bytes\n"
     ]
    },
    {
     "data": {
      "text/plain": [
       "None"
      ]
     },
     "metadata": {},
     "output_type": "display_data"
    }
   ],
   "source": [
    "display(dept_manager_df.info())"
   ]
  },
  {
   "cell_type": "code",
   "execution_count": 10,
   "id": "a7c775e4-2130-477f-88f4-be81a6e83649",
   "metadata": {
    "tags": []
   },
   "outputs": [
    {
     "data": {
      "text/html": [
       "<div>\n",
       "<style scoped>\n",
       "    .dataframe tbody tr th:only-of-type {\n",
       "        vertical-align: middle;\n",
       "    }\n",
       "\n",
       "    .dataframe tbody tr th {\n",
       "        vertical-align: top;\n",
       "    }\n",
       "\n",
       "    .dataframe thead th {\n",
       "        text-align: right;\n",
       "    }\n",
       "</style>\n",
       "<table border=\"1\" class=\"dataframe\">\n",
       "  <thead>\n",
       "    <tr style=\"text-align: right;\">\n",
       "      <th></th>\n",
       "      <th>dept_no</th>\n",
       "      <th>emp_no</th>\n",
       "    </tr>\n",
       "  </thead>\n",
       "  <tbody>\n",
       "    <tr>\n",
       "      <th>0</th>\n",
       "      <td>d001</td>\n",
       "      <td>110022</td>\n",
       "    </tr>\n",
       "    <tr>\n",
       "      <th>1</th>\n",
       "      <td>d001</td>\n",
       "      <td>110039</td>\n",
       "    </tr>\n",
       "    <tr>\n",
       "      <th>2</th>\n",
       "      <td>d002</td>\n",
       "      <td>110085</td>\n",
       "    </tr>\n",
       "  </tbody>\n",
       "</table>\n",
       "</div>"
      ],
      "text/plain": [
       "  dept_no  emp_no\n",
       "0    d001  110022\n",
       "1    d001  110039\n",
       "2    d002  110085"
      ]
     },
     "metadata": {},
     "output_type": "display_data"
    }
   ],
   "source": [
    "display(dept_manager_df.head(3))"
   ]
  },
  {
   "cell_type": "code",
   "execution_count": 11,
   "id": "51a538d2-af19-47f7-87cc-c58fda072d05",
   "metadata": {
    "tags": []
   },
   "outputs": [
    {
     "data": {
      "text/plain": [
       "dept_no\n",
       "d004    4\n",
       "d006    4\n",
       "d009    4\n",
       "d001    2\n",
       "d002    2\n",
       "d003    2\n",
       "d005    2\n",
       "d007    2\n",
       "d008    2\n",
       "Name: count, dtype: int64"
      ]
     },
     "metadata": {},
     "output_type": "display_data"
    }
   ],
   "source": [
    "display(dept_manager_df['dept_no'].value_counts())"
   ]
  },
  {
   "cell_type": "code",
   "execution_count": 12,
   "id": "936e9856-741f-4d39-b2cc-c99945ac2a55",
   "metadata": {
    "tags": []
   },
   "outputs": [
    {
     "data": {
      "text/plain": [
       "dept_no     9\n",
       "emp_no     24\n",
       "dtype: int64"
      ]
     },
     "metadata": {},
     "output_type": "display_data"
    }
   ],
   "source": [
    "display(dept_manager_df.nunique())"
   ]
  },
  {
   "cell_type": "markdown",
   "id": "0009dec3-ed52-4a77-967f-d69e8901921f",
   "metadata": {},
   "source": [
    "### Employees Table\n",
    "- 300,024 unique employees"
   ]
  },
  {
   "cell_type": "code",
   "execution_count": 13,
   "id": "3cf186b5-aed8-492a-a60c-a4d01aecd09e",
   "metadata": {
    "tags": []
   },
   "outputs": [
    {
     "name": "stdout",
     "output_type": "stream",
     "text": [
      "<class 'pandas.core.frame.DataFrame'>\n",
      "RangeIndex: 300024 entries, 0 to 300023\n",
      "Data columns (total 7 columns):\n",
      " #   Column        Non-Null Count   Dtype \n",
      "---  ------        --------------   ----- \n",
      " 0   emp_no        300024 non-null  int64 \n",
      " 1   emp_title_id  300024 non-null  object\n",
      " 2   birth_date    300024 non-null  object\n",
      " 3   first_name    300024 non-null  object\n",
      " 4   last_name     300024 non-null  object\n",
      " 5   sex           300024 non-null  object\n",
      " 6   hire_date     300024 non-null  object\n",
      "dtypes: int64(1), object(6)\n",
      "memory usage: 16.0+ MB\n"
     ]
    },
    {
     "data": {
      "text/plain": [
       "None"
      ]
     },
     "metadata": {},
     "output_type": "display_data"
    }
   ],
   "source": [
    "display(employees_df.info())"
   ]
  },
  {
   "cell_type": "code",
   "execution_count": 14,
   "id": "554ba104-10d6-4e22-9b63-be1548473f3d",
   "metadata": {
    "tags": []
   },
   "outputs": [
    {
     "data": {
      "text/html": [
       "<div>\n",
       "<style scoped>\n",
       "    .dataframe tbody tr th:only-of-type {\n",
       "        vertical-align: middle;\n",
       "    }\n",
       "\n",
       "    .dataframe tbody tr th {\n",
       "        vertical-align: top;\n",
       "    }\n",
       "\n",
       "    .dataframe thead th {\n",
       "        text-align: right;\n",
       "    }\n",
       "</style>\n",
       "<table border=\"1\" class=\"dataframe\">\n",
       "  <thead>\n",
       "    <tr style=\"text-align: right;\">\n",
       "      <th></th>\n",
       "      <th>emp_no</th>\n",
       "      <th>emp_title_id</th>\n",
       "      <th>birth_date</th>\n",
       "      <th>first_name</th>\n",
       "      <th>last_name</th>\n",
       "      <th>sex</th>\n",
       "      <th>hire_date</th>\n",
       "    </tr>\n",
       "  </thead>\n",
       "  <tbody>\n",
       "    <tr>\n",
       "      <th>200187</th>\n",
       "      <td>10001</td>\n",
       "      <td>e0003</td>\n",
       "      <td>9/2/1953</td>\n",
       "      <td>Georgi</td>\n",
       "      <td>Facello</td>\n",
       "      <td>M</td>\n",
       "      <td>6/26/1986</td>\n",
       "    </tr>\n",
       "    <tr>\n",
       "      <th>166677</th>\n",
       "      <td>10002</td>\n",
       "      <td>s0001</td>\n",
       "      <td>6/2/1964</td>\n",
       "      <td>Bezalel</td>\n",
       "      <td>Simmel</td>\n",
       "      <td>F</td>\n",
       "      <td>11/21/1985</td>\n",
       "    </tr>\n",
       "    <tr>\n",
       "      <th>73092</th>\n",
       "      <td>10003</td>\n",
       "      <td>e0003</td>\n",
       "      <td>12/3/1959</td>\n",
       "      <td>Parto</td>\n",
       "      <td>Bamford</td>\n",
       "      <td>M</td>\n",
       "      <td>8/28/1986</td>\n",
       "    </tr>\n",
       "  </tbody>\n",
       "</table>\n",
       "</div>"
      ],
      "text/plain": [
       "        emp_no emp_title_id birth_date first_name last_name sex   hire_date\n",
       "200187   10001        e0003   9/2/1953     Georgi   Facello   M   6/26/1986\n",
       "166677   10002        s0001   6/2/1964    Bezalel    Simmel   F  11/21/1985\n",
       "73092    10003        e0003  12/3/1959      Parto   Bamford   M   8/28/1986"
      ]
     },
     "metadata": {},
     "output_type": "display_data"
    },
    {
     "data": {
      "text/plain": [
       "False"
      ]
     },
     "execution_count": 14,
     "metadata": {},
     "output_type": "execute_result"
    }
   ],
   "source": [
    "display(employees_df.sort_values(by=\"emp_no\").head(3))\n",
    "\n",
    "473302 in employees_df[\"emp_no\"]"
   ]
  },
  {
   "cell_type": "code",
   "execution_count": 34,
   "id": "74cb6b51-739e-4158-9047-2285c5d7697b",
   "metadata": {
    "tags": []
   },
   "outputs": [
    {
     "name": "stdout",
     "output_type": "stream",
     "text": [
      "<class 'pandas.core.series.Series'>\n",
      "Index: 1 entries, 259346 to 259346\n",
      "Series name: emp_no\n",
      "Non-Null Count  Dtype\n",
      "--------------  -----\n",
      "1 non-null      int64\n",
      "dtypes: int64(1)\n",
      "memory usage: 16.0 bytes\n"
     ]
    },
    {
     "data": {
      "text/plain": [
       "''"
      ]
     },
     "metadata": {},
     "output_type": "display_data"
    },
    {
     "data": {
      "text/plain": [
       "False"
      ]
     },
     "metadata": {},
     "output_type": "display_data"
    },
    {
     "data": {
      "text/plain": [
       "259346    400001\n",
       "Name: emp_no, dtype: int64"
      ]
     },
     "metadata": {},
     "output_type": "display_data"
    },
    {
     "data": {
      "text/plain": [
       "''"
      ]
     },
     "metadata": {},
     "output_type": "display_data"
    },
    {
     "data": {
      "text/plain": [
       "259346    400001\n",
       "Name: emp_no, dtype: int64"
      ]
     },
     "metadata": {},
     "output_type": "display_data"
    }
   ],
   "source": [
    "rosalie_id = employees_df[\"emp_no\"][(employees_df[\"first_name\"] == \"Rosalie\") & (employees_df[\"last_name\"] == \"Chinin\")]\n",
    "rosalie_id.info(verbose=True)\n",
    "display(\"\")\n",
    "display(400001 in employees_df[\"emp_no\"])\n",
    "display(employees_df[\"emp_no\"][(employees_df[\"emp_no\"] == 400001)])\n",
    "display(\"\")\n",
    "# display(rosalie_id[0] in employees_df[\"emp_no\"])\n",
    "# display(\"\")\n",
    "display(rosalie_id)\n",
    "# display(rosalie_id.values)"
   ]
  },
  {
   "cell_type": "code",
   "execution_count": 16,
   "id": "2c3a6a5e-af2d-4b7d-8e61-bc273d64ac77",
   "metadata": {
    "tags": []
   },
   "outputs": [
    {
     "data": {
      "text/plain": [
       "emp_title_id\n",
       "s0001    107384\n",
       "e0003     97747\n",
       "e0002     47303\n",
       "s0002     26583\n",
       "e0004     15148\n",
       "e0001      5835\n",
       "m0001        24\n",
       "Name: count, dtype: int64"
      ]
     },
     "metadata": {},
     "output_type": "display_data"
    }
   ],
   "source": [
    "display(employees_df['emp_title_id'].value_counts())"
   ]
  },
  {
   "cell_type": "code",
   "execution_count": 17,
   "id": "ede8a473-65a2-4319-a702-6df9b49bbb1c",
   "metadata": {
    "tags": []
   },
   "outputs": [
    {
     "data": {
      "text/plain": [
       "300024"
      ]
     },
     "metadata": {},
     "output_type": "display_data"
    }
   ],
   "source": [
    "display(employees_df[\"emp_no\"].nunique())"
   ]
  },
  {
   "cell_type": "code",
   "execution_count": 18,
   "id": "7b28a454-1a7f-40f6-b3b1-e9b51ba931f5",
   "metadata": {
    "tags": []
   },
   "outputs": [
    {
     "data": {
      "text/plain": [
       "7"
      ]
     },
     "metadata": {},
     "output_type": "display_data"
    }
   ],
   "source": [
    "display(employees_df[\"emp_title_id\"].nunique()) # 7 titles available to employees"
   ]
  },
  {
   "cell_type": "markdown",
   "id": "32d99fc2-21a4-4e21-a2ff-57caef18ae57",
   "metadata": {},
   "source": [
    "### Salaries Table\n",
    "- 300,024 unique ids -> the same total as in the employees table"
   ]
  },
  {
   "cell_type": "code",
   "execution_count": 19,
   "id": "c91f002c-9d86-4f92-889d-2643a7dbad8a",
   "metadata": {
    "tags": []
   },
   "outputs": [
    {
     "name": "stdout",
     "output_type": "stream",
     "text": [
      "<class 'pandas.core.frame.DataFrame'>\n",
      "RangeIndex: 300024 entries, 0 to 300023\n",
      "Data columns (total 2 columns):\n",
      " #   Column  Non-Null Count   Dtype\n",
      "---  ------  --------------   -----\n",
      " 0   emp_no  300024 non-null  int64\n",
      " 1   salary  300024 non-null  int64\n",
      "dtypes: int64(2)\n",
      "memory usage: 4.6 MB\n"
     ]
    },
    {
     "data": {
      "text/plain": [
       "None"
      ]
     },
     "metadata": {},
     "output_type": "display_data"
    }
   ],
   "source": [
    "display(salaries_df.info())"
   ]
  },
  {
   "cell_type": "code",
   "execution_count": 20,
   "id": "b561a068-75ac-4480-87ef-2cb60e796871",
   "metadata": {
    "tags": []
   },
   "outputs": [
    {
     "data": {
      "text/html": [
       "<div>\n",
       "<style scoped>\n",
       "    .dataframe tbody tr th:only-of-type {\n",
       "        vertical-align: middle;\n",
       "    }\n",
       "\n",
       "    .dataframe tbody tr th {\n",
       "        vertical-align: top;\n",
       "    }\n",
       "\n",
       "    .dataframe thead th {\n",
       "        text-align: right;\n",
       "    }\n",
       "</style>\n",
       "<table border=\"1\" class=\"dataframe\">\n",
       "  <thead>\n",
       "    <tr style=\"text-align: right;\">\n",
       "      <th></th>\n",
       "      <th>emp_no</th>\n",
       "      <th>salary</th>\n",
       "    </tr>\n",
       "  </thead>\n",
       "  <tbody>\n",
       "    <tr>\n",
       "      <th>0</th>\n",
       "      <td>10001</td>\n",
       "      <td>60117</td>\n",
       "    </tr>\n",
       "    <tr>\n",
       "      <th>1</th>\n",
       "      <td>10002</td>\n",
       "      <td>65828</td>\n",
       "    </tr>\n",
       "    <tr>\n",
       "      <th>2</th>\n",
       "      <td>10003</td>\n",
       "      <td>40006</td>\n",
       "    </tr>\n",
       "  </tbody>\n",
       "</table>\n",
       "</div>"
      ],
      "text/plain": [
       "   emp_no  salary\n",
       "0   10001   60117\n",
       "1   10002   65828\n",
       "2   10003   40006"
      ]
     },
     "metadata": {},
     "output_type": "display_data"
    }
   ],
   "source": [
    "display(salaries_df.head(3))"
   ]
  },
  {
   "cell_type": "code",
   "execution_count": 21,
   "id": "769383dd-6eaf-48b8-a94b-ef42b2e17199",
   "metadata": {
    "tags": []
   },
   "outputs": [
    {
     "data": {
      "text/plain": [
       "300024"
      ]
     },
     "metadata": {},
     "output_type": "display_data"
    }
   ],
   "source": [
    "display(salaries_df[\"emp_no\"].nunique())"
   ]
  },
  {
   "cell_type": "markdown",
   "id": "7fbc49dd-0b6b-4464-a02f-fc08a473861e",
   "metadata": {},
   "source": [
    "### Titles Table"
   ]
  },
  {
   "cell_type": "code",
   "execution_count": 22,
   "id": "ae7c8fdd-1464-4ba4-bc97-ac59d0a67e3c",
   "metadata": {
    "tags": []
   },
   "outputs": [
    {
     "name": "stdout",
     "output_type": "stream",
     "text": [
      "<class 'pandas.core.frame.DataFrame'>\n",
      "RangeIndex: 7 entries, 0 to 6\n",
      "Data columns (total 2 columns):\n",
      " #   Column    Non-Null Count  Dtype \n",
      "---  ------    --------------  ----- \n",
      " 0   title_id  7 non-null      object\n",
      " 1   title     7 non-null      object\n",
      "dtypes: object(2)\n",
      "memory usage: 244.0+ bytes\n"
     ]
    },
    {
     "data": {
      "text/plain": [
       "None"
      ]
     },
     "metadata": {},
     "output_type": "display_data"
    }
   ],
   "source": [
    "display(titles_df.info())"
   ]
  },
  {
   "cell_type": "code",
   "execution_count": 23,
   "id": "fbf486ed-1117-4280-a9fc-e9e2671f53e5",
   "metadata": {
    "tags": []
   },
   "outputs": [
    {
     "data": {
      "text/plain": [
       "title_id  title             \n",
       "e0001     Assistant Engineer    1\n",
       "e0002     Engineer              1\n",
       "e0003     Senior Engineer       1\n",
       "e0004     Technique Leader      1\n",
       "m0001     Manager               1\n",
       "s0001     Staff                 1\n",
       "s0002     Senior Staff          1\n",
       "Name: count, dtype: int64"
      ]
     },
     "metadata": {},
     "output_type": "display_data"
    }
   ],
   "source": [
    "display(titles_df.value_counts())"
   ]
  },
  {
   "cell_type": "code",
   "execution_count": 24,
   "id": "a731affd-c874-42d4-813a-eec25eb3f90b",
   "metadata": {
    "tags": []
   },
   "outputs": [
    {
     "data": {
      "text/html": [
       "<div>\n",
       "<style scoped>\n",
       "    .dataframe tbody tr th:only-of-type {\n",
       "        vertical-align: middle;\n",
       "    }\n",
       "\n",
       "    .dataframe tbody tr th {\n",
       "        vertical-align: top;\n",
       "    }\n",
       "\n",
       "    .dataframe thead th {\n",
       "        text-align: right;\n",
       "    }\n",
       "</style>\n",
       "<table border=\"1\" class=\"dataframe\">\n",
       "  <thead>\n",
       "    <tr style=\"text-align: right;\">\n",
       "      <th></th>\n",
       "      <th>title_id</th>\n",
       "      <th>title</th>\n",
       "    </tr>\n",
       "  </thead>\n",
       "  <tbody>\n",
       "    <tr>\n",
       "      <th>0</th>\n",
       "      <td>s0001</td>\n",
       "      <td>Staff</td>\n",
       "    </tr>\n",
       "    <tr>\n",
       "      <th>1</th>\n",
       "      <td>s0002</td>\n",
       "      <td>Senior Staff</td>\n",
       "    </tr>\n",
       "    <tr>\n",
       "      <th>2</th>\n",
       "      <td>e0001</td>\n",
       "      <td>Assistant Engineer</td>\n",
       "    </tr>\n",
       "  </tbody>\n",
       "</table>\n",
       "</div>"
      ],
      "text/plain": [
       "  title_id               title\n",
       "0    s0001               Staff\n",
       "1    s0002        Senior Staff\n",
       "2    e0001  Assistant Engineer"
      ]
     },
     "metadata": {},
     "output_type": "display_data"
    }
   ],
   "source": [
    "display(titles_df.head(3))"
   ]
  },
  {
   "cell_type": "code",
   "execution_count": 25,
   "id": "f7511f0e-f294-4a06-8bf3-6adb23f46831",
   "metadata": {},
   "outputs": [],
   "source": [
    "# Do the employees have the same ids?"
   ]
  },
  {
   "cell_type": "code",
   "execution_count": 26,
   "id": "6e05db2d-c6f6-4d85-8170-5c8f192d2d90",
   "metadata": {
    "tags": []
   },
   "outputs": [
    {
     "name": "stdout",
     "output_type": "stream",
     "text": [
      "employee number: 400000 not found\n",
      "employee number: 400001 not found\n",
      "employee number: 400002 not found\n",
      "employee number: 400003 not found\n",
      "employee number: 400004 not found\n",
      "100000\n"
     ]
    }
   ],
   "source": [
    "count = 0\n",
    "for i in range(len(salaries_df[\"emp_no\"])):\n",
    "    if salaries_df[\"emp_no\"][i] not in employees_df[\"emp_no\"]:\n",
    "        if count < 5:\n",
    "            print(f'employee number: {salaries_df[\"emp_no\"][i]} not found')\n",
    "        count += 1\n",
    "    # if count >4:\n",
    "    #     break\n",
    "print(count)"
   ]
  },
  {
   "cell_type": "code",
   "execution_count": 27,
   "id": "8dc14689-af37-4ded-8527-4b576e625e44",
   "metadata": {
    "tags": []
   },
   "outputs": [
    {
     "name": "stdout",
     "output_type": "stream",
     "text": [
      "employee number: 473302 not found\n",
      "employee number: 475053 not found\n",
      "employee number: 421786 not found\n",
      "employee number: 461591 not found\n",
      "employee number: 477657 not found\n",
      "100000\n"
     ]
    }
   ],
   "source": [
    "# There employee table employee numbers not in the salary table(why?)\n",
    "count = 0\n",
    "for i in range(len(employees_df[\"emp_no\"])):\n",
    "    if employees_df[\"emp_no\"][i] not in salaries_df[\"emp_no\"]:\n",
    "        if count < 5:\n",
    "            print(f'employee number: {employees_df[\"emp_no\"][i]} not found')\n",
    "        count += 1\n",
    "    # if count >4:\n",
    "    #     break\n",
    "print(count)"
   ]
  },
  {
   "cell_type": "code",
   "execution_count": 28,
   "id": "1924cfa6-174d-4ba3-89e1-a8377e2abc8e",
   "metadata": {
    "tags": []
   },
   "outputs": [
    {
     "data": {
      "text/html": [
       "<div>\n",
       "<style scoped>\n",
       "    .dataframe tbody tr th:only-of-type {\n",
       "        vertical-align: middle;\n",
       "    }\n",
       "\n",
       "    .dataframe tbody tr th {\n",
       "        vertical-align: top;\n",
       "    }\n",
       "\n",
       "    .dataframe thead th {\n",
       "        text-align: right;\n",
       "    }\n",
       "</style>\n",
       "<table border=\"1\" class=\"dataframe\">\n",
       "  <thead>\n",
       "    <tr style=\"text-align: right;\">\n",
       "      <th></th>\n",
       "      <th>emp_no</th>\n",
       "      <th>emp_title_id</th>\n",
       "      <th>birth_date</th>\n",
       "      <th>first_name</th>\n",
       "      <th>last_name</th>\n",
       "      <th>sex</th>\n",
       "      <th>hire_date</th>\n",
       "    </tr>\n",
       "  </thead>\n",
       "  <tbody>\n",
       "    <tr>\n",
       "      <th>63123</th>\n",
       "      <td>400000</td>\n",
       "      <td>s0001</td>\n",
       "      <td>11/29/1963</td>\n",
       "      <td>Mitsuyuki</td>\n",
       "      <td>Reinhart</td>\n",
       "      <td>M</td>\n",
       "      <td>8/27/1985</td>\n",
       "    </tr>\n",
       "    <tr>\n",
       "      <th>259346</th>\n",
       "      <td>400001</td>\n",
       "      <td>s0001</td>\n",
       "      <td>6/2/1962</td>\n",
       "      <td>Rosalie</td>\n",
       "      <td>Chinin</td>\n",
       "      <td>M</td>\n",
       "      <td>11/28/1986</td>\n",
       "    </tr>\n",
       "    <tr>\n",
       "      <th>248230</th>\n",
       "      <td>400002</td>\n",
       "      <td>e0003</td>\n",
       "      <td>8/16/1964</td>\n",
       "      <td>Quingbo</td>\n",
       "      <td>Birnbaum</td>\n",
       "      <td>F</td>\n",
       "      <td>4/23/1986</td>\n",
       "    </tr>\n",
       "  </tbody>\n",
       "</table>\n",
       "</div>"
      ],
      "text/plain": [
       "        emp_no emp_title_id  birth_date first_name last_name sex   hire_date\n",
       "63123   400000        s0001  11/29/1963  Mitsuyuki  Reinhart   M   8/27/1985\n",
       "259346  400001        s0001    6/2/1962    Rosalie    Chinin   M  11/28/1986\n",
       "248230  400002        e0003   8/16/1964    Quingbo  Birnbaum   F   4/23/1986"
      ]
     },
     "metadata": {},
     "output_type": "display_data"
    },
    {
     "data": {
      "text/html": [
       "<div>\n",
       "<style scoped>\n",
       "    .dataframe tbody tr th:only-of-type {\n",
       "        vertical-align: middle;\n",
       "    }\n",
       "\n",
       "    .dataframe tbody tr th {\n",
       "        vertical-align: top;\n",
       "    }\n",
       "\n",
       "    .dataframe thead th {\n",
       "        text-align: right;\n",
       "    }\n",
       "</style>\n",
       "<table border=\"1\" class=\"dataframe\">\n",
       "  <thead>\n",
       "    <tr style=\"text-align: right;\">\n",
       "      <th></th>\n",
       "      <th>emp_no</th>\n",
       "      <th>emp_title_id</th>\n",
       "      <th>birth_date</th>\n",
       "      <th>first_name</th>\n",
       "      <th>last_name</th>\n",
       "      <th>sex</th>\n",
       "      <th>hire_date</th>\n",
       "    </tr>\n",
       "  </thead>\n",
       "  <tbody>\n",
       "    <tr>\n",
       "      <th>67702</th>\n",
       "      <td>499997</td>\n",
       "      <td>e0003</td>\n",
       "      <td>8/3/1961</td>\n",
       "      <td>Berhard</td>\n",
       "      <td>Lenart</td>\n",
       "      <td>M</td>\n",
       "      <td>4/21/1986</td>\n",
       "    </tr>\n",
       "    <tr>\n",
       "      <th>209152</th>\n",
       "      <td>499998</td>\n",
       "      <td>s0001</td>\n",
       "      <td>9/5/1956</td>\n",
       "      <td>Patricia</td>\n",
       "      <td>Breugel</td>\n",
       "      <td>M</td>\n",
       "      <td>10/13/1993</td>\n",
       "    </tr>\n",
       "    <tr>\n",
       "      <th>114041</th>\n",
       "      <td>499999</td>\n",
       "      <td>e0002</td>\n",
       "      <td>5/1/1958</td>\n",
       "      <td>Sachin</td>\n",
       "      <td>Tsukuda</td>\n",
       "      <td>M</td>\n",
       "      <td>11/30/1997</td>\n",
       "    </tr>\n",
       "  </tbody>\n",
       "</table>\n",
       "</div>"
      ],
      "text/plain": [
       "        emp_no emp_title_id birth_date first_name last_name sex   hire_date\n",
       "67702   499997        e0003   8/3/1961    Berhard    Lenart   M   4/21/1986\n",
       "209152  499998        s0001   9/5/1956   Patricia   Breugel   M  10/13/1993\n",
       "114041  499999        e0002   5/1/1958     Sachin   Tsukuda   M  11/30/1997"
      ]
     },
     "metadata": {},
     "output_type": "display_data"
    }
   ],
   "source": [
    "employee_highid_df = employees_df[employees_df[\"emp_no\"] > 399900]\n",
    "\n",
    "emp_highid_sort_df = employee_highid_df.sort_values(by=\"emp_no\", ascending=True)\n",
    "\n",
    "display(emp_highid_sort_df.head(3))\n",
    "display(emp_highid_sort_df.tail(3))\n"
   ]
  },
  {
   "cell_type": "code",
   "execution_count": 29,
   "id": "78dddec7-b024-4cd2-bda2-9bf51a8ab61c",
   "metadata": {
    "tags": []
   },
   "outputs": [
    {
     "name": "stdout",
     "output_type": "stream",
     "text": [
      "employee number: 473302 not found\n",
      "employee number: 475053 not found\n",
      "employee number: 421786 not found\n",
      "employee number: 461591 not found\n",
      "employee number: 477657 not found\n"
     ]
    }
   ],
   "source": [
    "count = 0\n",
    "for i in range(len(salaries_df[\"emp_no\"])):\n",
    "    if employees_df[\"emp_no\"][i] not in salaries_df[\"emp_no\"]:\n",
    "        print(f'employee number: {employees_df[\"emp_no\"][i]} not found')\n",
    "        count += 1\n",
    "    if count >4:\n",
    "        break"
   ]
  },
  {
   "cell_type": "code",
   "execution_count": 30,
   "id": "28253684-1741-4e28-b16b-2f6f5eecef54",
   "metadata": {
    "tags": []
   },
   "outputs": [
    {
     "name": "stdout",
     "output_type": "stream",
     "text": [
      "employee number: 400000 not found\n",
      "employee number: 400001 not found\n",
      "employee number: 400002 not found\n",
      "employee number: 400003 not found\n",
      "employee number: 400004 not found\n",
      "100000\n"
     ]
    }
   ],
   "source": [
    "# check salaries and dept_emp\n",
    "count = 0\n",
    "for i in range(len(salaries_df[\"emp_no\"])):\n",
    "    if salaries_df[\"emp_no\"][i] not in dept_emp_df[\"emp_no\"]:\n",
    "        if count < 5:\n",
    "            print(f'employee number: {salaries_df[\"emp_no\"][i]} not found')\n",
    "        count += 1\n",
    "    # if count >4:\n",
    "    #     break\n",
    "print(count)"
   ]
  },
  {
   "cell_type": "code",
   "execution_count": 31,
   "id": "f01d6518-5b29-498a-b05a-3ff7e760c2e6",
   "metadata": {
    "tags": []
   },
   "outputs": [
    {
     "name": "stdout",
     "output_type": "stream",
     "text": [
      "employee number: 473302 not found\n",
      "employee number: 475053 not found\n",
      "employee number: 421786 not found\n",
      "employee number: 461591 not found\n",
      "employee number: 477657 not found\n",
      "100000\n"
     ]
    }
   ],
   "source": [
    "count = 0\n",
    "for i in range(len(employees_df[\"emp_no\"])):\n",
    "    if employees_df[\"emp_no\"][i] not in salaries_df[\"emp_no\"]:\n",
    "        if count < 5:\n",
    "            print(f'employee number: {employees_df[\"emp_no\"][i]} not found')\n",
    "        count += 1\n",
    "    # if count >4:\n",
    "    #     break\n",
    "print(count)"
   ]
  }
 ],
 "metadata": {
  "kernelspec": {
   "display_name": "Python 3 (ipykernel)",
   "language": "python",
   "name": "python3"
  },
  "language_info": {
   "codemirror_mode": {
    "name": "ipython",
    "version": 3
   },
   "file_extension": ".py",
   "mimetype": "text/x-python",
   "name": "python",
   "nbconvert_exporter": "python",
   "pygments_lexer": "ipython3",
   "version": "3.11.4"
  }
 },
 "nbformat": 4,
 "nbformat_minor": 5
}
